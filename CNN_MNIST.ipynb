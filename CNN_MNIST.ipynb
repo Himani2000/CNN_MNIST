{
  "nbformat": 4,
  "nbformat_minor": 0,
  "metadata": {
    "colab": {
      "name": "CNN_MNIST.ipynb",
      "version": "0.3.2",
      "provenance": [],
      "collapsed_sections": []
    },
    "kernelspec": {
      "name": "python3",
      "display_name": "Python 3"
    },
    "accelerator": "GPU"
  },
  "cells": [
    {
      "metadata": {
        "id": "JQNpR1BsFibT",
        "colab_type": "code",
        "colab": {}
      },
      "cell_type": "code",
      "source": [
        "import tensorflow as tf"
      ],
      "execution_count": 0,
      "outputs": []
    },
    {
      "metadata": {
        "id": "3_fw09rEFrdn",
        "colab_type": "code",
        "colab": {}
      },
      "cell_type": "code",
      "source": [
        "from tensorflow.examples.tutorials.mnist import input_data"
      ],
      "execution_count": 0,
      "outputs": []
    },
    {
      "metadata": {
        "id": "mJt_6Z5UFvNB",
        "colab_type": "code",
        "colab": {
          "base_uri": "https://localhost:8080/",
          "height": 541
        },
        "outputId": "a773f063-91e4-4c38-8b86-b543b6106d53"
      },
      "cell_type": "code",
      "source": [
        "mnist = input_data.read_data_sets(\"MNIST_data/\", one_hot = True)"
      ],
      "execution_count": 3,
      "outputs": [
        {
          "output_type": "stream",
          "text": [
            "WARNING:tensorflow:From <ipython-input-3-1a516c502833>:1: read_data_sets (from tensorflow.contrib.learn.python.learn.datasets.mnist) is deprecated and will be removed in a future version.\n",
            "Instructions for updating:\n",
            "Please use alternatives such as official/mnist/dataset.py from tensorflow/models.\n",
            "WARNING:tensorflow:From /usr/local/lib/python3.6/dist-packages/tensorflow/contrib/learn/python/learn/datasets/mnist.py:260: maybe_download (from tensorflow.contrib.learn.python.learn.datasets.base) is deprecated and will be removed in a future version.\n",
            "Instructions for updating:\n",
            "Please write your own downloading logic.\n",
            "WARNING:tensorflow:From /usr/local/lib/python3.6/dist-packages/tensorflow/contrib/learn/python/learn/datasets/base.py:252: _internal_retry.<locals>.wrap.<locals>.wrapped_fn (from tensorflow.contrib.learn.python.learn.datasets.base) is deprecated and will be removed in a future version.\n",
            "Instructions for updating:\n",
            "Please use urllib or similar directly.\n",
            "Successfully downloaded train-images-idx3-ubyte.gz 9912422 bytes.\n",
            "WARNING:tensorflow:From /usr/local/lib/python3.6/dist-packages/tensorflow/contrib/learn/python/learn/datasets/mnist.py:262: extract_images (from tensorflow.contrib.learn.python.learn.datasets.mnist) is deprecated and will be removed in a future version.\n",
            "Instructions for updating:\n",
            "Please use tf.data to implement this functionality.\n",
            "Extracting MNIST_data/train-images-idx3-ubyte.gz\n",
            "Successfully downloaded train-labels-idx1-ubyte.gz 28881 bytes.\n",
            "WARNING:tensorflow:From /usr/local/lib/python3.6/dist-packages/tensorflow/contrib/learn/python/learn/datasets/mnist.py:267: extract_labels (from tensorflow.contrib.learn.python.learn.datasets.mnist) is deprecated and will be removed in a future version.\n",
            "Instructions for updating:\n",
            "Please use tf.data to implement this functionality.\n",
            "Extracting MNIST_data/train-labels-idx1-ubyte.gz\n",
            "WARNING:tensorflow:From /usr/local/lib/python3.6/dist-packages/tensorflow/contrib/learn/python/learn/datasets/mnist.py:110: dense_to_one_hot (from tensorflow.contrib.learn.python.learn.datasets.mnist) is deprecated and will be removed in a future version.\n",
            "Instructions for updating:\n",
            "Please use tf.one_hot on tensors.\n",
            "Successfully downloaded t10k-images-idx3-ubyte.gz 1648877 bytes.\n",
            "Extracting MNIST_data/t10k-images-idx3-ubyte.gz\n",
            "Successfully downloaded t10k-labels-idx1-ubyte.gz 4542 bytes.\n",
            "Extracting MNIST_data/t10k-labels-idx1-ubyte.gz\n",
            "WARNING:tensorflow:From /usr/local/lib/python3.6/dist-packages/tensorflow/contrib/learn/python/learn/datasets/mnist.py:290: DataSet.__init__ (from tensorflow.contrib.learn.python.learn.datasets.mnist) is deprecated and will be removed in a future version.\n",
            "Instructions for updating:\n",
            "Please use alternatives such as official/mnist/dataset.py from tensorflow/models.\n"
          ],
          "name": "stdout"
        }
      ]
    },
    {
      "metadata": {
        "id": "vCy7nw_fFxDN",
        "colab_type": "code",
        "colab": {
          "base_uri": "https://localhost:8080/",
          "height": 34
        },
        "outputId": "66bb7526-7972-4f63-f85a-b654da834666"
      },
      "cell_type": "code",
      "source": [
        "mnist.train.images.shape"
      ],
      "execution_count": 4,
      "outputs": [
        {
          "output_type": "execute_result",
          "data": {
            "text/plain": [
              "(55000, 784)"
            ]
          },
          "metadata": {
            "tags": []
          },
          "execution_count": 4
        }
      ]
    },
    {
      "metadata": {
        "id": "wt919hoBNI3A",
        "colab_type": "code",
        "colab": {
          "base_uri": "https://localhost:8080/",
          "height": 34
        },
        "outputId": "10d1a68c-3dd5-454a-dda2-c3d936cc4e9c"
      },
      "cell_type": "code",
      "source": [
        "28**2"
      ],
      "execution_count": 102,
      "outputs": [
        {
          "output_type": "execute_result",
          "data": {
            "text/plain": [
              "784"
            ]
          },
          "metadata": {
            "tags": []
          },
          "execution_count": 102
        }
      ]
    },
    {
      "metadata": {
        "id": "6sgp3SLFFzEs",
        "colab_type": "code",
        "colab": {}
      },
      "cell_type": "code",
      "source": [
        "n_input=784\n",
        "input_width=28\n",
        "input_height=28\n",
        "n_channel=1\n",
        "\n",
        "n_conv1=32\n",
        "n_conv2=64\n",
        "\n",
        "conv1_k=5\n",
        "conv2_k=5\n",
        "\n",
        "n_hidden=1024\n",
        "n_out=10\n",
        "\n",
        "pooling_size=2"
      ],
      "execution_count": 0,
      "outputs": []
    },
    {
      "metadata": {
        "id": "m6FpdP6MXMO6",
        "colab_type": "code",
        "colab": {}
      },
      "cell_type": "code",
      "source": [
        "conv2_width=input_width//(pooling_size*pooling_size)\n",
        "conv2_height=input_height//(pooling_size*pooling_size)\n",
        "\n",
        "input_hidden=conv2_width*conv2_height*n_conv2"
      ],
      "execution_count": 0,
      "outputs": []
    },
    {
      "metadata": {
        "id": "tOp8pkIfOf-4",
        "colab_type": "code",
        "colab": {}
      },
      "cell_type": "code",
      "source": [
        "weights={\n",
        "    \n",
        "    'c1':tf.Variable(tf.random_normal([conv1_k,conv1_k,n_channel,n_conv1])),\n",
        "    'c2':tf.Variable(tf.random_normal([conv2_k,conv2_k,n_conv1,n_conv2])),\n",
        "    'h1':tf.Variable(tf.random_normal([input_hidden,n_hidden])),\n",
        "     'out':tf.Variable(tf.random_normal([n_hidden,n_out]))    \n",
        "    \n",
        "}\n",
        "\n",
        "biases={\n",
        "     'c1':tf.Variable(tf.random_normal([n_conv1])),\n",
        "     'c2':tf.Variable(tf.random_normal([n_conv2])),\n",
        "     'h1':tf.Variable(tf.random_normal([n_hidden])),\n",
        "     'out':tf.Variable(tf.random_normal([n_out]))   \n",
        "    \n",
        "    \n",
        "    \n",
        "}"
      ],
      "execution_count": 0,
      "outputs": []
    },
    {
      "metadata": {
        "id": "tupGWacta-H6",
        "colab_type": "code",
        "colab": {}
      },
      "cell_type": "code",
      "source": [
        "def conv2D(x,weights,biases,stride=1):\n",
        "  conv=tf.nn.conv2d(x,weights,padding=\"SAME\",strides=[1,stride,stride,1])\n",
        "  out=tf.nn.bias_add(conv,biases)\n",
        "  out=tf.nn.relu(out)\n",
        "  return out\n",
        "\n",
        "def maxpool(x,k=2):\n",
        "  return tf.nn.max_pool(x,padding=\"SAME\",ksize=[1,k,k,1],strides=[1,k,k,1])\n",
        "  \n",
        "  "
      ],
      "execution_count": 0,
      "outputs": []
    },
    {
      "metadata": {
        "id": "elJxs6E5Yr9z",
        "colab_type": "code",
        "colab": {}
      },
      "cell_type": "code",
      "source": [
        "def forward_propogation(x,weights,biases):\n",
        "  x=tf.reshape(x,shape=[-1,input_width,input_height,n_channel])\n",
        "  conv1=conv2D(x,weights['c1'],biases['c1'])\n",
        "  conv1=maxpool(conv1,k=pooling_size)\n",
        "  \n",
        "  conv2=conv2D(conv1,weights['c2'],biases['c2'])\n",
        "  conv2=maxpool(conv2,k=pooling_size)\n",
        "  \n",
        "  hidden_input=tf.reshape(conv2,shape=[-1,input_hidden])\n",
        "  hidden_input=tf.add(tf.matmul(hidden_input,weights['h1']),biases['h1'])\n",
        "  hidden_out=tf.nn.relu(hidden_input)\n",
        "  \n",
        "  out=tf.add(tf.matmul(hidden_out,weights['out']),biases['out'])\n",
        "  return out\n",
        "  \n",
        "  \n",
        "  \n",
        "  "
      ],
      "execution_count": 0,
      "outputs": []
    },
    {
      "metadata": {
        "id": "lb4KaXTScS5e",
        "colab_type": "code",
        "colab": {}
      },
      "cell_type": "code",
      "source": [
        "x=tf.placeholder(\"float\",[None,n_input])\n",
        "y=tf.placeholder(tf.int32,[None,n_out])"
      ],
      "execution_count": 0,
      "outputs": []
    },
    {
      "metadata": {
        "id": "5Hdq9HFIcs6X",
        "colab_type": "code",
        "colab": {}
      },
      "cell_type": "code",
      "source": [
        "pred=forward_propogation(x,weights,biases)\n"
      ],
      "execution_count": 0,
      "outputs": []
    },
    {
      "metadata": {
        "id": "m67CI5bRc9UG",
        "colab_type": "code",
        "colab": {
          "base_uri": "https://localhost:8080/",
          "height": 176
        },
        "outputId": "4b76bdfe-ba3d-48a1-ccf9-526e93913a6e"
      },
      "cell_type": "code",
      "source": [
        "cost = tf.reduce_mean(tf.nn.softmax_cross_entropy_with_logits(logits = pred, labels = y))"
      ],
      "execution_count": 12,
      "outputs": [
        {
          "output_type": "stream",
          "text": [
            "WARNING:tensorflow:From <ipython-input-12-5b540179457b>:1: softmax_cross_entropy_with_logits (from tensorflow.python.ops.nn_ops) is deprecated and will be removed in a future version.\n",
            "Instructions for updating:\n",
            "\n",
            "Future major versions of TensorFlow will allow gradients to flow\n",
            "into the labels input on backprop by default.\n",
            "\n",
            "See `tf.nn.softmax_cross_entropy_with_logits_v2`.\n",
            "\n"
          ],
          "name": "stdout"
        }
      ]
    },
    {
      "metadata": {
        "id": "4D35rR4DgUlH",
        "colab_type": "code",
        "colab": {}
      },
      "cell_type": "code",
      "source": [
        "optimizer=tf.train.AdamOptimizer(learning_rate=0.01)\n",
        "optimize_step=optimizer.minimize(cost)"
      ],
      "execution_count": 0,
      "outputs": []
    },
    {
      "metadata": {
        "id": "wFpQ37vvgrjj",
        "colab_type": "code",
        "colab": {}
      },
      "cell_type": "code",
      "source": [
        "sess = tf.Session()\n",
        "sess.run(tf.global_variables_initializer())"
      ],
      "execution_count": 0,
      "outputs": []
    },
    {
      "metadata": {
        "id": "pbWrViSpgzLR",
        "colab_type": "code",
        "colab": {
          "base_uri": "https://localhost:8080/",
          "height": 451
        },
        "outputId": "143c5350-839c-4d13-f944-bf8bcf87d78a"
      },
      "cell_type": "code",
      "source": [
        "batch_size = 100\n",
        "for i in range(25):\n",
        "    num_batches = int(mnist.train.num_examples/batch_size)\n",
        "    total_cost = 0\n",
        "    for j in range(num_batches):\n",
        "        batch_x, batch_y = mnist.train.next_batch(batch_size) \n",
        "        c, _ = sess.run([cost, optimize_step], feed_dict={x:batch_x, y:batch_y})\n",
        "        total_cost += c\n",
        "    print(total_cost)"
      ],
      "execution_count": 15,
      "outputs": [
        {
          "output_type": "stream",
          "text": [
            "1310453.7567663193\n",
            "26422.061523719458\n",
            "17427.844043187797\n",
            "11797.999267311481\n",
            "9730.679105597557\n",
            "10122.393053193344\n",
            "10539.134844582555\n",
            "10027.077620137927\n",
            "8873.864109580225\n",
            "7902.771047196438\n",
            "8434.793080472205\n",
            "6156.071306273341\n",
            "4971.049176367389\n",
            "5607.775649548218\n",
            "4752.904798973679\n",
            "4165.008540924415\n",
            "3920.3429651023307\n",
            "3583.7528607434624\n",
            "2946.8653512976043\n",
            "3102.692763412058\n",
            "3153.7776598634664\n",
            "2788.4929714234986\n",
            "2527.9847228310696\n",
            "2487.214211281182\n",
            "2269.8241224815474\n"
          ],
          "name": "stdout"
        }
      ]
    },
    {
      "metadata": {
        "id": "TJSHRhe7g6eq",
        "colab_type": "code",
        "colab": {}
      },
      "cell_type": "code",
      "source": [
        "predictions=tf.argmax(pred,axis=1)\n",
        "actual_labels=tf.argmax(y,axis=1)\n",
        "correct_predictions=tf.equal(predictions,actual_labels)\n",
        "correct=sess.run(correct_predictions,feed_dict={x:mnist.test.images,y:mnist.test.labels})\n"
      ],
      "execution_count": 0,
      "outputs": []
    },
    {
      "metadata": {
        "id": "LiHWra6Vh2J2",
        "colab_type": "code",
        "colab": {
          "base_uri": "https://localhost:8080/",
          "height": 34
        },
        "outputId": "8fde7add-11fc-4d05-e7c7-74533d9cc0ed"
      },
      "cell_type": "code",
      "source": [
        "mnist.test.images.shape[0]"
      ],
      "execution_count": 22,
      "outputs": [
        {
          "output_type": "execute_result",
          "data": {
            "text/plain": [
              "10000"
            ]
          },
          "metadata": {
            "tags": []
          },
          "execution_count": 22
        }
      ]
    },
    {
      "metadata": {
        "id": "6Szyw_MhhtNr",
        "colab_type": "code",
        "colab": {
          "base_uri": "https://localhost:8080/",
          "height": 34
        },
        "outputId": "13a6f669-1e69-43fd-c960-bd55f585bf81"
      },
      "cell_type": "code",
      "source": [
        "correct.sum()/mnist.test.images.shape[0]"
      ],
      "execution_count": 23,
      "outputs": [
        {
          "output_type": "execute_result",
          "data": {
            "text/plain": [
              "0.9845"
            ]
          },
          "metadata": {
            "tags": []
          },
          "execution_count": 23
        }
      ]
    },
    {
      "metadata": {
        "id": "-0VwLimxhup9",
        "colab_type": "code",
        "colab": {}
      },
      "cell_type": "code",
      "source": [
        ""
      ],
      "execution_count": 0,
      "outputs": []
    }
  ]
}